{
 "cells": [
  {
   "cell_type": "code",
   "execution_count": 8,
   "metadata": {},
   "outputs": [],
   "source": [
    "#pip install beautifulsoup4 requests\n",
    "import requests\n",
    "from bs4 import BeautifulSoup\n",
    "import pandas as pd"
   ]
  },
  {
   "cell_type": "code",
   "execution_count": 9,
   "metadata": {},
   "outputs": [],
   "source": [
    "url='https://www.oxfordlearnersdictionaries.com/wordlists/oxford3000-5000'\n",
    "headers={\"User-Agent\":\"Mozilla/5.0\"}\n",
    "\n",
    "page=requests.get(url,headers=headers)\n",
    "soup=BeautifulSoup(page.content, 'html.parser')\n",
    "content = soup.find('ul',class_='top-g')"
   ]
  },
  {
   "cell_type": "markdown",
   "metadata": {},
   "source": [
    "## **Word**"
   ]
  },
  {
   "cell_type": "code",
   "execution_count": 10,
   "metadata": {},
   "outputs": [],
   "source": [
    "word=[]\n",
    "for li in content.find_all('li'):\n",
    "    try:\n",
    "        word.append(li.find('a').text)\n",
    "    except:\n",
    "        word.append(li.find('span').text)"
   ]
  },
  {
   "cell_type": "markdown",
   "metadata": {},
   "source": [
    "## **Word type**"
   ]
  },
  {
   "cell_type": "code",
   "execution_count": 11,
   "metadata": {},
   "outputs": [],
   "source": [
    "type_word=[]\n",
    "for li in content.find_all('li'):\n",
    "    type_word.append(li.find('span',class_='pos').text)"
   ]
  },
  {
   "cell_type": "markdown",
   "metadata": {},
   "source": [
    "## **Level**"
   ]
  },
  {
   "cell_type": "code",
   "execution_count": 12,
   "metadata": {},
   "outputs": [],
   "source": [
    "level=[]\n",
    "for li in content.find_all('li'):    \n",
    "    try:\n",
    "        level.append(li.find('span',class_='belong-to').text)\n",
    "    except:\n",
    "        level.append(None)"
   ]
  },
  {
   "cell_type": "markdown",
   "metadata": {},
   "source": [
    "## **Audio**"
   ]
  },
  {
   "cell_type": "code",
   "execution_count": 13,
   "metadata": {},
   "outputs": [],
   "source": [
    "uk_mp3=[]\n",
    "uk_ogg=[]\n",
    "us_mp3=[]\n",
    "us_ogg=[]\n",
    "base_url='https://www.oxfordlearnersdictionaries.com'\n",
    "\n",
    "for li in content.find_all('li'):\n",
    "    try:\n",
    "        uk_mp3.append(base_url + li.find('div',class_='sound audio_play_button icon-audio pron-uk')['data-src-mp3'])\n",
    "        uk_ogg.append(base_url + li.find('div',class_='sound audio_play_button icon-audio pron-uk')['data-src-ogg'])\n",
    "        us_mp3.append(base_url + li.find('div',class_='sound audio_play_button icon-audio pron-us')['data-src-mp3'])\n",
    "        us_ogg.append(base_url + li.find('div',class_='sound audio_play_button icon-audio pron-us')['data-src-ogg'])\n",
    "    except:\n",
    "        uk_mp3.append(None)\n",
    "        uk_ogg.append(None)\n",
    "        us_mp3.append(None)\n",
    "        us_ogg.append(None)"
   ]
  },
  {
   "cell_type": "markdown",
   "metadata": {},
   "source": [
    "## **Save as csv**"
   ]
  },
  {
   "cell_type": "code",
   "execution_count": 14,
   "metadata": {},
   "outputs": [],
   "source": [
    "fields={'word':word,\n",
    "        'type_word':type_word,\n",
    "        'level':level,\n",
    "        'uk_mp3':uk_mp3,\n",
    "        'uk_ogg':uk_ogg,\n",
    "        'us_mp3':us_mp3,\n",
    "        'us_ogg':us_ogg}\n",
    "\n",
    "df=pd.DataFrame(fields)\n",
    "df.to_csv('oxford.csv',index=False)\n",
    "df.to_json('oxford.json', orient = 'records',indent=4)"
   ]
  }
 ],
 "metadata": {
  "kernelspec": {
   "display_name": "Python 3",
   "language": "python",
   "name": "python3"
  },
  "language_info": {
   "codemirror_mode": {
    "name": "ipython",
    "version": 3
   },
   "file_extension": ".py",
   "mimetype": "text/x-python",
   "name": "python",
   "nbconvert_exporter": "python",
   "pygments_lexer": "ipython3",
   "version": "3.7.8"
  }
 },
 "nbformat": 4,
 "nbformat_minor": 4
}
