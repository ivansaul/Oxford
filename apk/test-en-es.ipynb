{
 "cells": [
  {
   "cell_type": "markdown",
   "metadata": {},
   "source": [
    "## **Test**"
   ]
  },
  {
   "cell_type": "code",
   "execution_count": 21,
   "metadata": {},
   "outputs": [],
   "source": [
    "import re"
   ]
  },
  {
   "cell_type": "code",
   "execution_count": 22,
   "metadata": {},
   "outputs": [
    {
     "data": {
      "text/plain": [
       "\"abbreviation} ə.brivɪ'eɪʃn}əbri:vieɪʃən%abreviación%abreviatura%acortamiento\""
      ]
     },
     "execution_count": 22,
     "metadata": {},
     "output_type": "execute_result"
    }
   ],
   "source": [
    "line=\"abbreviation{ ə.brivɪ'eɪʃn}əbri:vieɪʃən%abreviación%abreviatura%acortamiento\"\n",
    "re.sub(\"}|{\",'}',line)"
   ]
  },
  {
   "cell_type": "code",
   "execution_count": 23,
   "metadata": {},
   "outputs": [
    {
     "name": "stdout",
     "output_type": "stream",
     "text": [
      "12\n",
      "39\n"
     ]
    }
   ],
   "source": [
    "line=\"abbreviation{ ə.brivɪ'eɪʃn}əbri:vieɪʃən%abreviación%abreviatura%acortamiento\"\n",
    "#line=\"abbreviation& ə.brivɪ'eɪʃn&əbri:vieɪʃən%abreviación%abreviatura%acortamiento\"\n",
    "a=re.search(\"}|{\",line)\n",
    "print(a.span()[0])\n",
    "#print(a)\n",
    "print(line.find('%'))"
   ]
  },
  {
   "cell_type": "code",
   "execution_count": 24,
   "metadata": {},
   "outputs": [
    {
     "name": "stdout",
     "output_type": "stream",
     "text": [
      "abbreviation\n",
      "[\" ə.brivɪ'eɪʃn\", 'əbri:vieɪʃən']\n",
      "['abreviación', 'abreviatura', 'acortamiento']\n"
     ]
    }
   ],
   "source": [
    "print(line[:12])\n",
    "print(line[12+1:39].split('}'))\n",
    "print(line[39+1:].split('%'))"
   ]
  },
  {
   "cell_type": "code",
   "execution_count": 25,
   "metadata": {},
   "outputs": [
    {
     "data": {
      "text/plain": [
       "12"
      ]
     },
     "execution_count": 25,
     "metadata": {},
     "output_type": "execute_result"
    }
   ],
   "source": [
    "\"Abaza Spoken%abaza hablado\".find('%')"
   ]
  },
  {
   "cell_type": "code",
   "execution_count": 26,
   "metadata": {},
   "outputs": [
    {
     "name": "stdout",
     "output_type": "stream",
     "text": [
      "Abaza Spoken\n",
      "None\n",
      "['abaza hablado', 'parlando']\n"
     ]
    }
   ],
   "source": [
    "line=\"Abaza Spoken%abaza hablado%parlando\"\n",
    "if ('{' not in line) or ('}' not in line):\n",
    "    line=line.split('%')\n",
    "    print(line[0])\n",
    "    print(None)\n",
    "    print(line[1:])"
   ]
  },
  {
   "cell_type": "code",
   "execution_count": 27,
   "metadata": {},
   "outputs": [
    {
     "data": {
      "text/html": [
       "<div>\n",
       "<style scoped>\n",
       "    .dataframe tbody tr th:only-of-type {\n",
       "        vertical-align: middle;\n",
       "    }\n",
       "\n",
       "    .dataframe tbody tr th {\n",
       "        vertical-align: top;\n",
       "    }\n",
       "\n",
       "    .dataframe thead th {\n",
       "        text-align: right;\n",
       "    }\n",
       "</style>\n",
       "<table border=\"1\" class=\"dataframe\">\n",
       "  <thead>\n",
       "    <tr style=\"text-align: right;\">\n",
       "      <th></th>\n",
       "      <th>word</th>\n",
       "      <th>pron</th>\n",
       "      <th>sense</th>\n",
       "    </tr>\n",
       "  </thead>\n",
       "  <tbody>\n",
       "  </tbody>\n",
       "</table>\n",
       "</div>"
      ],
      "text/plain": [
       "Empty DataFrame\n",
       "Columns: [word, pron, sense]\n",
       "Index: []"
      ]
     },
     "execution_count": 27,
     "metadata": {},
     "output_type": "execute_result"
    }
   ],
   "source": [
    "df=pd.DataFrame({'word':[],'pron':[],'sense':[]})\n",
    "df"
   ]
  },
  {
   "cell_type": "code",
   "execution_count": 28,
   "metadata": {},
   "outputs": [
    {
     "data": {
      "text/html": [
       "<div>\n",
       "<style scoped>\n",
       "    .dataframe tbody tr th:only-of-type {\n",
       "        vertical-align: middle;\n",
       "    }\n",
       "\n",
       "    .dataframe tbody tr th {\n",
       "        vertical-align: top;\n",
       "    }\n",
       "\n",
       "    .dataframe thead th {\n",
       "        text-align: right;\n",
       "    }\n",
       "</style>\n",
       "<table border=\"1\" class=\"dataframe\">\n",
       "  <thead>\n",
       "    <tr style=\"text-align: right;\">\n",
       "      <th></th>\n",
       "      <th>word</th>\n",
       "      <th>pron</th>\n",
       "      <th>sense</th>\n",
       "    </tr>\n",
       "  </thead>\n",
       "  <tbody>\n",
       "    <tr>\n",
       "      <th>0</th>\n",
       "      <td>abbreviation</td>\n",
       "      <td>[ ə.brivɪ'eɪʃn, əbri:vieɪʃən]</td>\n",
       "      <td>[abreviación, abreviatura, acortamiento]</td>\n",
       "    </tr>\n",
       "  </tbody>\n",
       "</table>\n",
       "</div>"
      ],
      "text/plain": [
       "           word                           pron  \\\n",
       "0  abbreviation  [ ə.brivɪ'eɪʃn, əbri:vieɪʃən]   \n",
       "\n",
       "                                      sense  \n",
       "0  [abreviación, abreviatura, acortamiento]  "
      ]
     },
     "execution_count": 28,
     "metadata": {},
     "output_type": "execute_result"
    }
   ],
   "source": [
    "#line=\"Abaza Spoken%abaza hablado%parlando\"\n",
    "line=\"abbreviation{ ə.brivɪ'eɪʃn}əbri:vieɪʃən%abreviación%abreviatura%acortamiento\"\n",
    "if re.search(\"}|{\",line) is None:\n",
    "    line=line.split('%')\n",
    "    word=line[0]\n",
    "    pron=None\n",
    "    sense=line[1:]\n",
    "    dfx=pd.DataFrame({'word':[word],'pron':[pron],'sense':[sense]})\n",
    "    df=df.append(dfx, ignore_index = True) \n",
    "    #print(line[0])\n",
    "    #print(None)\n",
    "    #print(line[1:])\n",
    "else:\n",
    "    i=re.search(\"}|{\",line).span()[0]\n",
    "    j=line.find('%')\n",
    "    word=line[:i]\n",
    "    pron=line[i+1:j].split('}')\n",
    "    sense=line[j+1:].split('%')\n",
    "    dfx=pd.DataFrame({'word':[word],'pron':[pron],'sense':[sense]})\n",
    "    df=df.append(dfx, ignore_index = True) \n",
    "    #print(line[:i])\n",
    "    #print(line[i+1:j].split('}'))\n",
    "    #print(line[j+1:].split('%'))\n",
    "df"
   ]
  },
  {
   "cell_type": "markdown",
   "metadata": {},
   "source": [
    "## **Implementation**"
   ]
  },
  {
   "cell_type": "code",
   "execution_count": 29,
   "metadata": {},
   "outputs": [],
   "source": [
    "import re\n",
    "import pandas as pd"
   ]
  },
  {
   "cell_type": "markdown",
   "metadata": {},
   "source": [
    "Read txt line by line"
   ]
  },
  {
   "cell_type": "code",
   "execution_count": 30,
   "metadata": {},
   "outputs": [],
   "source": [
    "with open('a14.txt') as f:\n",
    "    lines = f.readlines()\n",
    "\n",
    "lines = [x.strip() for x in lines]\n",
    "lines = list(filter(None, lines))"
   ]
  },
  {
   "cell_type": "code",
   "execution_count": 31,
   "metadata": {},
   "outputs": [
    {
     "data": {
      "text/html": [
       "<div>\n",
       "<style scoped>\n",
       "    .dataframe tbody tr th:only-of-type {\n",
       "        vertical-align: middle;\n",
       "    }\n",
       "\n",
       "    .dataframe tbody tr th {\n",
       "        vertical-align: top;\n",
       "    }\n",
       "\n",
       "    .dataframe thead th {\n",
       "        text-align: right;\n",
       "    }\n",
       "</style>\n",
       "<table border=\"1\" class=\"dataframe\">\n",
       "  <thead>\n",
       "    <tr style=\"text-align: right;\">\n",
       "      <th></th>\n",
       "      <th>word</th>\n",
       "      <th>pron</th>\n",
       "      <th>sense</th>\n",
       "    </tr>\n",
       "  </thead>\n",
       "  <tbody>\n",
       "  </tbody>\n",
       "</table>\n",
       "</div>"
      ],
      "text/plain": [
       "Empty DataFrame\n",
       "Columns: [word, pron, sense]\n",
       "Index: []"
      ]
     },
     "execution_count": 31,
     "metadata": {},
     "output_type": "execute_result"
    }
   ],
   "source": [
    "df=pd.DataFrame({'word':[],'pron':[],'sense':[]})\n",
    "df"
   ]
  },
  {
   "cell_type": "code",
   "execution_count": 32,
   "metadata": {},
   "outputs": [
    {
     "data": {
      "text/html": [
       "<div>\n",
       "<style scoped>\n",
       "    .dataframe tbody tr th:only-of-type {\n",
       "        vertical-align: middle;\n",
       "    }\n",
       "\n",
       "    .dataframe tbody tr th {\n",
       "        vertical-align: top;\n",
       "    }\n",
       "\n",
       "    .dataframe thead th {\n",
       "        text-align: right;\n",
       "    }\n",
       "</style>\n",
       "<table border=\"1\" class=\"dataframe\">\n",
       "  <thead>\n",
       "    <tr style=\"text-align: right;\">\n",
       "      <th></th>\n",
       "      <th>word</th>\n",
       "      <th>pron</th>\n",
       "      <th>sense</th>\n",
       "    </tr>\n",
       "  </thead>\n",
       "  <tbody>\n",
       "    <tr>\n",
       "      <th>536</th>\n",
       "      <td>haze</td>\n",
       "      <td>[heɪz]</td>\n",
       "      <td>[neblina, bruma, niebla]</td>\n",
       "    </tr>\n",
       "    <tr>\n",
       "      <th>249</th>\n",
       "      <td>hairier</td>\n",
       "      <td>['heərɪə]</td>\n",
       "      <td>[más peludo, con más pelo]</td>\n",
       "    </tr>\n",
       "    <tr>\n",
       "      <th>141</th>\n",
       "      <td>gullible</td>\n",
       "      <td>['gʌlɪbl, gʌləbəl]</td>\n",
       "      <td>[bobo, crédulo, cándido, confiado, creído]</td>\n",
       "    </tr>\n",
       "    <tr>\n",
       "      <th>407</th>\n",
       "      <td>harden</td>\n",
       "      <td>['ha:dn, ha:rdən]</td>\n",
       "      <td>[aguerrir, acerar, encallecer, solidificar, so...</td>\n",
       "    </tr>\n",
       "    <tr>\n",
       "      <th>697</th>\n",
       "      <td>helmsman</td>\n",
       "      <td>['helmzmən, helmzmæn]</td>\n",
       "      <td>[timonel, timonero]</td>\n",
       "    </tr>\n",
       "  </tbody>\n",
       "</table>\n",
       "</div>"
      ],
      "text/plain": [
       "         word                   pron  \\\n",
       "536      haze                 [heɪz]   \n",
       "249   hairier              ['heərɪə]   \n",
       "141  gullible     ['gʌlɪbl, gʌləbəl]   \n",
       "407    harden      ['ha:dn, ha:rdən]   \n",
       "697  helmsman  ['helmzmən, helmzmæn]   \n",
       "\n",
       "                                                 sense  \n",
       "536                           [neblina, bruma, niebla]  \n",
       "249                         [más peludo, con más pelo]  \n",
       "141         [bobo, crédulo, cándido, confiado, creído]  \n",
       "407  [aguerrir, acerar, encallecer, solidificar, so...  \n",
       "697                                [timonel, timonero]  "
      ]
     },
     "execution_count": 32,
     "metadata": {},
     "output_type": "execute_result"
    }
   ],
   "source": [
    "for line in lines:\n",
    "    if re.search(\"}|{\",line) is None:\n",
    "        line=line.split('%')\n",
    "        word=line[0]\n",
    "        pron=None\n",
    "        sense=line[1:]\n",
    "        dfx=pd.DataFrame({'word':[word],'pron':[pron],'sense':[sense]})\n",
    "        df=df.append(dfx, ignore_index = True) \n",
    "    else:\n",
    "        i=re.search(\"}|{\",line).span()[0]\n",
    "        j=line.find('%')\n",
    "        word=line[:i]\n",
    "        pron=line[i+1:j].split('}')\n",
    "        sense=line[j+1:].split('%')\n",
    "        dfx=pd.DataFrame({'word':[word],'pron':[pron],'sense':[sense]})\n",
    "        df=df.append(dfx, ignore_index = True) \n",
    "df.sample(n=5)"
   ]
  }
 ],
 "metadata": {
  "kernelspec": {
   "display_name": "Python 3",
   "language": "python",
   "name": "python3"
  },
  "language_info": {
   "codemirror_mode": {
    "name": "ipython",
    "version": 3
   },
   "file_extension": ".py",
   "mimetype": "text/x-python",
   "name": "python",
   "nbconvert_exporter": "python",
   "pygments_lexer": "ipython3",
   "version": "3.7.8"
  }
 },
 "nbformat": 4,
 "nbformat_minor": 4
}
