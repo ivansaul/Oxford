{
 "cells": [
  {
   "cell_type": "markdown",
   "metadata": {},
   "source": [
    "## **Implementation**"
   ]
  },
  {
   "cell_type": "code",
   "execution_count": 8,
   "metadata": {},
   "outputs": [],
   "source": [
    "import os\n",
    "import re\n",
    "import pandas as pd"
   ]
  },
  {
   "cell_type": "code",
   "execution_count": 9,
   "metadata": {},
   "outputs": [
    {
     "data": {
      "text/html": [
       "<div>\n",
       "<style scoped>\n",
       "    .dataframe tbody tr th:only-of-type {\n",
       "        vertical-align: middle;\n",
       "    }\n",
       "\n",
       "    .dataframe tbody tr th {\n",
       "        vertical-align: top;\n",
       "    }\n",
       "\n",
       "    .dataframe thead th {\n",
       "        text-align: right;\n",
       "    }\n",
       "</style>\n",
       "<table border=\"1\" class=\"dataframe\">\n",
       "  <thead>\n",
       "    <tr style=\"text-align: right;\">\n",
       "      <th></th>\n",
       "      <th>word</th>\n",
       "      <th>pron</th>\n",
       "      <th>sense</th>\n",
       "    </tr>\n",
       "  </thead>\n",
       "  <tbody>\n",
       "  </tbody>\n",
       "</table>\n",
       "</div>"
      ],
      "text/plain": [
       "Empty DataFrame\n",
       "Columns: [word, pron, sense]\n",
       "Index: []"
      ]
     },
     "execution_count": 9,
     "metadata": {},
     "output_type": "execute_result"
    }
   ],
   "source": [
    "df=pd.DataFrame({'word':[],'pron':[],'sense':[]})\n",
    "df"
   ]
  },
  {
   "cell_type": "markdown",
   "metadata": {},
   "source": [
    "Read txt line by line"
   ]
  },
  {
   "cell_type": "code",
   "execution_count": 10,
   "metadata": {
    "collapsed": true,
    "jupyter": {
     "outputs_hidden": true
    }
   },
   "outputs": [
    {
     "name": "stdout",
     "output_type": "stream",
     "text": [
      "0\n",
      "1\n",
      "2\n",
      "3\n",
      "4\n",
      "5\n",
      "6\n",
      "7\n",
      "8\n",
      "9\n",
      "10\n",
      "11\n",
      "12\n",
      "13\n",
      "14\n",
      "15\n",
      "16\n",
      "17\n",
      "18\n",
      "19\n",
      "20\n",
      "21\n",
      "22\n",
      "23\n",
      "24\n",
      "25\n",
      "26\n",
      "27\n",
      "28\n",
      "29\n",
      "30\n",
      "31\n",
      "32\n",
      "33\n",
      "34\n",
      "35\n"
     ]
    }
   ],
   "source": [
    "ntxt=len(os.listdir('en-es'))\n",
    "for x in range(ntxt):\n",
    "    print(x)\n",
    "    with open(f'en-es/a{x}.txt') as f:\n",
    "        lines = f.readlines()\n",
    "\n",
    "    lines = [x.strip() for x in lines]\n",
    "    lines = list(filter(None, lines))  \n",
    "    \n",
    "    for line in lines:\n",
    "        if re.search(\"}|{\",line) is None:\n",
    "            line=line.split('%')\n",
    "            word=line[0]\n",
    "            pron=None\n",
    "            sense=line[1:]\n",
    "            dfx=pd.DataFrame({'word':[word],'pron':[pron],'sense':[sense]})\n",
    "            df=df.append(dfx, ignore_index = True) \n",
    "        else:\n",
    "            i=re.search(\"}|{\",line).span()[0]\n",
    "            j=line.find('%')\n",
    "            word=line[:i]\n",
    "            pron=line[i+1:j].split('}')\n",
    "            sense=line[j+1:].split('%')\n",
    "            dfx=pd.DataFrame({'word':[word],'pron':[pron],'sense':[sense]})\n",
    "            df=df.append(dfx, ignore_index = True) "
   ]
  },
  {
   "cell_type": "code",
   "execution_count": 11,
   "metadata": {},
   "outputs": [
    {
     "data": {
      "text/html": [
       "<div>\n",
       "<style scoped>\n",
       "    .dataframe tbody tr th:only-of-type {\n",
       "        vertical-align: middle;\n",
       "    }\n",
       "\n",
       "    .dataframe tbody tr th {\n",
       "        vertical-align: top;\n",
       "    }\n",
       "\n",
       "    .dataframe thead th {\n",
       "        text-align: right;\n",
       "    }\n",
       "</style>\n",
       "<table border=\"1\" class=\"dataframe\">\n",
       "  <thead>\n",
       "    <tr style=\"text-align: right;\">\n",
       "      <th></th>\n",
       "      <th>word</th>\n",
       "      <th>pron</th>\n",
       "      <th>sense</th>\n",
       "    </tr>\n",
       "  </thead>\n",
       "  <tbody>\n",
       "    <tr>\n",
       "      <th>0</th>\n",
       "      <td>a</td>\n",
       "      <td>[eɪ, ə]</td>\n",
       "      <td>[alguno, cierto, al, por, un, a, en, la]</td>\n",
       "    </tr>\n",
       "    <tr>\n",
       "      <th>1</th>\n",
       "      <td>Aachen</td>\n",
       "      <td>['a:kən, ɒkən]</td>\n",
       "      <td>[Aquisgrán]</td>\n",
       "    </tr>\n",
       "    <tr>\n",
       "      <th>2</th>\n",
       "      <td>aardvark</td>\n",
       "      <td>[a:rdva:rk]</td>\n",
       "      <td>[cerdo hormiguero]</td>\n",
       "    </tr>\n",
       "    <tr>\n",
       "      <th>3</th>\n",
       "      <td>abaca</td>\n",
       "      <td>None</td>\n",
       "      <td>[abacá]</td>\n",
       "    </tr>\n",
       "    <tr>\n",
       "      <th>4</th>\n",
       "      <td>abaci</td>\n",
       "      <td>['æbəsaɪ]</td>\n",
       "      <td>[ábacos]</td>\n",
       "    </tr>\n",
       "    <tr>\n",
       "      <th>...</th>\n",
       "      <td>...</td>\n",
       "      <td>...</td>\n",
       "      <td>...</td>\n",
       "    </tr>\n",
       "    <tr>\n",
       "      <th>35190</th>\n",
       "      <td>Zulu</td>\n",
       "      <td>[zu:lu:]</td>\n",
       "      <td>[zulú]</td>\n",
       "    </tr>\n",
       "    <tr>\n",
       "      <th>35191</th>\n",
       "      <td>zwitterion</td>\n",
       "      <td>None</td>\n",
       "      <td>[zwitterión]</td>\n",
       "    </tr>\n",
       "    <tr>\n",
       "      <th>35192</th>\n",
       "      <td>zygomatic</td>\n",
       "      <td>None</td>\n",
       "      <td>[cigomático]</td>\n",
       "    </tr>\n",
       "    <tr>\n",
       "      <th>35193</th>\n",
       "      <td>zygomatic bone</td>\n",
       "      <td>None</td>\n",
       "      <td>[hueso cigomático]</td>\n",
       "    </tr>\n",
       "    <tr>\n",
       "      <th>35194</th>\n",
       "      <td>zygote</td>\n",
       "      <td>[zaɪgəʊt]</td>\n",
       "      <td>[zigoto, cigoto]</td>\n",
       "    </tr>\n",
       "  </tbody>\n",
       "</table>\n",
       "<p>35195 rows × 3 columns</p>\n",
       "</div>"
      ],
      "text/plain": [
       "                 word            pron  \\\n",
       "0                   a         [eɪ, ə]   \n",
       "1              Aachen  ['a:kən, ɒkən]   \n",
       "2            aardvark     [a:rdva:rk]   \n",
       "3               abaca            None   \n",
       "4               abaci       ['æbəsaɪ]   \n",
       "...               ...             ...   \n",
       "35190            Zulu        [zu:lu:]   \n",
       "35191      zwitterion            None   \n",
       "35192       zygomatic            None   \n",
       "35193  zygomatic bone            None   \n",
       "35194          zygote       [zaɪgəʊt]   \n",
       "\n",
       "                                          sense  \n",
       "0      [alguno, cierto, al, por, un, a, en, la]  \n",
       "1                                   [Aquisgrán]  \n",
       "2                            [cerdo hormiguero]  \n",
       "3                                       [abacá]  \n",
       "4                                      [ábacos]  \n",
       "...                                         ...  \n",
       "35190                                    [zulú]  \n",
       "35191                              [zwitterión]  \n",
       "35192                              [cigomático]  \n",
       "35193                        [hueso cigomático]  \n",
       "35194                          [zigoto, cigoto]  \n",
       "\n",
       "[35195 rows x 3 columns]"
      ]
     },
     "execution_count": 11,
     "metadata": {},
     "output_type": "execute_result"
    }
   ],
   "source": [
    "df"
   ]
  },
  {
   "cell_type": "code",
   "execution_count": 12,
   "metadata": {},
   "outputs": [],
   "source": [
    "df.to_json('en-es.json', orient='records', indent=4)"
   ]
  }
 ],
 "metadata": {
  "kernelspec": {
   "display_name": "Python 3",
   "language": "python",
   "name": "python3"
  },
  "language_info": {
   "codemirror_mode": {
    "name": "ipython",
    "version": 3
   },
   "file_extension": ".py",
   "mimetype": "text/x-python",
   "name": "python",
   "nbconvert_exporter": "python",
   "pygments_lexer": "ipython3",
   "version": "3.7.8"
  }
 },
 "nbformat": 4,
 "nbformat_minor": 4
}
