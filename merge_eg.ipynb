{
 "cells": [
  {
   "cell_type": "markdown",
   "metadata": {},
   "source": [
    "### **Add spanish examples**"
   ]
  },
  {
   "cell_type": "code",
   "execution_count": 1,
   "metadata": {},
   "outputs": [],
   "source": [
    "import json\n",
    "import pandas as pd"
   ]
  },
  {
   "cell_type": "code",
   "execution_count": 2,
   "metadata": {},
   "outputs": [],
   "source": [
    "df=pd.read_json('merge.json')"
   ]
  },
  {
   "cell_type": "code",
   "execution_count": 3,
   "metadata": {},
   "outputs": [],
   "source": [
    "def add_eg(word):\n",
    "    with open(f'addeg/eg/es/{word}.json') as json_file:\n",
    "        data = json.load(json_file)\n",
    "        \n",
    "    return data['examples']"
   ]
  },
  {
   "cell_type": "code",
   "execution_count": 4,
   "metadata": {},
   "outputs": [],
   "source": [
    "df['examples'] = df['word'].apply(add_eg)\n",
    "df[['word','examples']]\n",
    "df.to_json('merge_eg.json')"
   ]
  },
  {
   "cell_type": "markdown",
   "metadata": {},
   "source": [
    "##### **Test**"
   ]
  },
  {
   "cell_type": "code",
   "execution_count": 5,
   "metadata": {},
   "outputs": [
    {
     "name": "stdout",
     "output_type": "stream",
     "text": [
      "free\n",
      "--------------\n",
      "[\"Are you free on Saturday? We're having a barbecue.\", '¿Estás libre el sábado? Vamos a hacer una barbacoa.']\n",
      "['We try to keep Sundays free.', 'Intentamos que los domingos sean libres.']\n",
      "[\"If Sarah is free for lunch I'll take her out.\", 'Si Sarah está libre para almorzar, la llevaré.']\n",
      "['Keep Friday night free for my party.', 'Que el viernes por la noche quede libre para mi fiesta.']\n"
     ]
    }
   ],
   "source": [
    "for i, row in df[['word','examples']].sample(1).iterrows():\n",
    "    print(row['word'])\n",
    "    print('--------------')\n",
    "    for eg in row['examples']:\n",
    "        print(eg)"
   ]
  }
 ],
 "metadata": {
  "kernelspec": {
   "display_name": "Python 3",
   "language": "python",
   "name": "python3"
  },
  "language_info": {
   "codemirror_mode": {
    "name": "ipython",
    "version": 3
   },
   "file_extension": ".py",
   "mimetype": "text/x-python",
   "name": "python",
   "nbconvert_exporter": "python",
   "pygments_lexer": "ipython3",
   "version": "3.7.8"
  }
 },
 "nbformat": 4,
 "nbformat_minor": 4
}
