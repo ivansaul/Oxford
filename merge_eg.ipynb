{
 "cells": [
  {
   "cell_type": "markdown",
   "metadata": {},
   "source": [
    "### **Add spanish examples**"
   ]
  },
  {
   "cell_type": "code",
   "execution_count": 1,
   "metadata": {},
   "outputs": [],
   "source": [
    "import json\n",
    "import pandas as pd"
   ]
  },
  {
   "cell_type": "code",
   "execution_count": 2,
   "metadata": {},
   "outputs": [],
   "source": [
    "df=pd.read_json('merge.json')"
   ]
  },
  {
   "cell_type": "code",
   "execution_count": 3,
   "metadata": {},
   "outputs": [],
   "source": [
    "def add_eg(word):\n",
    "    with open(f'addeg/eg/es/{word}.json') as json_file:\n",
    "        data = json.load(json_file)\n",
    "        \n",
    "    return data['examples']"
   ]
  },
  {
   "cell_type": "code",
   "execution_count": 4,
   "metadata": {},
   "outputs": [],
   "source": [
    "df['examples'] = df['word'].apply(add_eg)\n",
    "df[['word','examples']]\n",
    "df.to_json('merge_eg.json', orient='records', indent=4)"
   ]
  },
  {
   "cell_type": "markdown",
   "metadata": {},
   "source": [
    "##### **Test**"
   ]
  },
  {
   "cell_type": "code",
   "execution_count": 5,
   "metadata": {},
   "outputs": [
    {
     "name": "stdout",
     "output_type": "stream",
     "text": [
      "forge\n",
      "--------------\n",
      "0 en:a move to forge new links between management and workers\n",
      "0 es:un movimiento para forjar nuevos vínculos entre la dirección y los trabajadores\n",
      "1 en:Strategic alliances are being forged with major European companies.\n",
      "1 es:Se están forjando alianzas estratégicas con importantes empresas europeas.\n",
      "2 en:She forged a new career in the music business.\n",
      "2 es:Forjó una nueva carrera en el negocio de la música.\n",
      "3 en:They forged a lead in the first 30 minutes of the game.\n",
      "3 es:Forjaron una ventaja en los primeros 30 minutos del juego.\n",
      "function\n",
      "--------------\n",
      "0 en:The club serves a useful function as a meeting place.\n",
      "0 es:El club cumple una función útil como lugar de reunión.\n",
      "1 en:to fulfil/perform a function\n",
      "1 es:para cumplir / realizar una función\n",
      "2 en:What is your function in the department?\n",
      "2 es:¿Cuál es su función en el departamento?\n",
      "3 en:bodily functions (= for example eating, sex, using the toilet)\n",
      "3 es:funciones corporales (= por ejemplo comer, sexo, ir al baño)\n"
     ]
    }
   ],
   "source": [
    "for index, row in df[['word','examples']].sample(2).iterrows():\n",
    "    print(row['word'])\n",
    "    print('--------------')\n",
    "    i=0\n",
    "    for eg in row['examples']:\n",
    "        print(f'{i} en:{eg[0]}')\n",
    "        print(f'{i} es:{eg[1]}')\n",
    "        i=i+1"
   ]
  }
 ],
 "metadata": {
  "kernelspec": {
   "display_name": "Python 3",
   "language": "python",
   "name": "python3"
  },
  "language_info": {
   "codemirror_mode": {
    "name": "ipython",
    "version": 3
   },
   "file_extension": ".py",
   "mimetype": "text/x-python",
   "name": "python",
   "nbconvert_exporter": "python",
   "pygments_lexer": "ipython3",
   "version": "3.7.8"
  }
 },
 "nbformat": 4,
 "nbformat_minor": 4
}
