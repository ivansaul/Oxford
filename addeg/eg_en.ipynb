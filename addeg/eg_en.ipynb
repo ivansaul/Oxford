{
 "cells": [
  {
   "cell_type": "markdown",
   "metadata": {},
   "source": [
    "# **Make english examples(json)**\n",
    "make `english` examples to `eg/en .json`"
   ]
  },
  {
   "cell_type": "markdown",
   "metadata": {},
   "source": [
    "### **Packages**"
   ]
  },
  {
   "cell_type": "code",
   "execution_count": 1,
   "metadata": {},
   "outputs": [],
   "source": [
    "import json\n",
    "import time\n",
    "import translatepy\n",
    "import pandas as pd\n",
    "import oxford_api\n",
    "from oxford_api import Word\n",
    "from pandarallel import pandarallel\n",
    "from multiprocessing.dummy import Pool as ThreadPool"
   ]
  },
  {
   "cell_type": "markdown",
   "metadata": {},
   "source": [
    "### **Functions**"
   ]
  },
  {
   "cell_type": "code",
   "execution_count": 2,
   "metadata": {},
   "outputs": [],
   "source": [
    "#return the same word if it can't translate\n",
    "def en_es(word):\n",
    "    translator = translatepy.Translator()\n",
    "    gtrans=translator.translate(word,'es','en')\n",
    "    palabra=gtrans.result\n",
    "    translator.clean_cache()\n",
    "    return palabra\n",
    "\n",
    "def en_es_list(eg):\n",
    "    if eg is None:\n",
    "        return None\n",
    "    else:\n",
    "        return [[x,en_es(x)] for x in eg]\n",
    "    \n",
    "#translator.example\n",
    "'''\n",
    "1. return a list of objects <class 'translatepy.translators.bing.Example'>\n",
    "    - Note: it doent return list of strings. You need to convert to str() to use them.\n",
    "2. return empty list [] if it doesnt have examples, but sometimes return None\n",
    "'''\n",
    "def expl_transpy(word):\n",
    "    translator = translatepy.Translator()\n",
    "    ex=translator.example(word,'es','en')\n",
    "    if ex is None:\n",
    "        ex = []\n",
    "    ex = [str(x) for x in ex[:4]]\n",
    "    translator.clean_cache()\n",
    "    return ex\n",
    "\n",
    "def get_examples(word):\n",
    "    try:\n",
    "        Word.get(word)\n",
    "    except:\n",
    "        expl = expl_transpy(word)[:4]\n",
    "        if len(expl)==0:\n",
    "            expl = None\n",
    "        return expl\n",
    "    else:\n",
    "        expl=Word.examples()[:4]\n",
    "        if len(expl)<4:\n",
    "            expl = expl + expl_transpy(word)[:4]\n",
    "            expl = expl[:4]\n",
    "        if len(expl)==0:\n",
    "            expl = None\n",
    "        return expl"
   ]
  },
  {
   "cell_type": "markdown",
   "metadata": {},
   "source": [
    "### **Read file merge.json**"
   ]
  },
  {
   "cell_type": "code",
   "execution_count": 3,
   "metadata": {},
   "outputs": [],
   "source": [
    "df=pd.read_json('../merge.json')\n",
    "#df=df.sample(n=50)"
   ]
  },
  {
   "cell_type": "markdown",
   "metadata": {},
   "source": [
    "##### **Create and delete `eg/en` folder**"
   ]
  },
  {
   "cell_type": "code",
   "execution_count": 4,
   "metadata": {},
   "outputs": [],
   "source": [
    "#!rm -rf eg/en\n",
    "#!mkdir eg/en"
   ]
  },
  {
   "cell_type": "markdown",
   "metadata": {},
   "source": [
    "### **Multiprocessing add english examples**"
   ]
  },
  {
   "cell_type": "code",
   "execution_count": 5,
   "metadata": {},
   "outputs": [
    {
     "name": "stdout",
     "output_type": "stream",
     "text": [
      "INFO: Pandarallel will run on 100 workers.\n",
      "INFO: Pandarallel will use Memory file system to transfer data between the main process and workers.\n",
      "ok! in 11.942490100860596 seconds\n"
     ]
    }
   ],
   "source": [
    "#worker\n",
    "def make_eg(word):\n",
    "    data={}\n",
    "    data['word']=word\n",
    "    examples=get_examples(word)\n",
    "    data['examples']=examples\n",
    "    with open(f'eg/en/{word}.json', 'w') as outfile:\n",
    "        json.dump(data, outfile, indent=4)\n",
    "        \n",
    "pandarallel.initialize(nb_workers=100, progress_bar=True)\n",
    "ti=time.time()\n",
    "df['word'].parallel_apply(make_eg)\n",
    "tf=time.time()\n",
    "print(f'ok! in {tf-ti} seconds')"
   ]
  }
 ],
 "metadata": {
  "kernelspec": {
   "display_name": "Python 3",
   "language": "python",
   "name": "python3"
  },
  "language_info": {
   "codemirror_mode": {
    "name": "ipython",
    "version": 3
   },
   "file_extension": ".py",
   "mimetype": "text/x-python",
   "name": "python",
   "nbconvert_exporter": "python",
   "pygments_lexer": "ipython3",
   "version": "3.7.8"
  }
 },
 "nbformat": 4,
 "nbformat_minor": 4
}
