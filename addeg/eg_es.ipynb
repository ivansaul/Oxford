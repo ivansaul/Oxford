{
 "cells": [
  {
   "cell_type": "markdown",
   "metadata": {},
   "source": [
    "# **Make spanish examples(json)**\n",
    "make `spanish` examples to `eg/es .json`"
   ]
  },
  {
   "cell_type": "markdown",
   "metadata": {},
   "source": [
    "### **Packages**"
   ]
  },
  {
   "cell_type": "code",
   "execution_count": 1,
   "metadata": {},
   "outputs": [],
   "source": [
    "import os\n",
    "import json\n",
    "import time\n",
    "import translatepy\n",
    "from multiprocessing.dummy import Pool as ThreadPool\n",
    "from tqdm import tqdm"
   ]
  },
  {
   "cell_type": "markdown",
   "metadata": {},
   "source": [
    "### **Functions**"
   ]
  },
  {
   "cell_type": "code",
   "execution_count": 2,
   "metadata": {},
   "outputs": [],
   "source": [
    "#return the same word if it can't translate\n",
    "def en_es(word):\n",
    "    translator = translatepy.Translator()\n",
    "    gtrans=translator.translate(word,'es','en')\n",
    "    palabra=gtrans.result\n",
    "    translator.clean_cache()\n",
    "    return palabra\n",
    "\n",
    "#trasnlate list and return [['en','es'],['en','es'],...]\n",
    "def en_es_list(eg):\n",
    "    if eg is None:\n",
    "        return None\n",
    "    else:\n",
    "        return [[x,en_es(x)] for x in eg]"
   ]
  },
  {
   "cell_type": "markdown",
   "metadata": {},
   "source": [
    "### **Get word from json file name `eg/en`**"
   ]
  },
  {
   "cell_type": "code",
   "execution_count": 3,
   "metadata": {},
   "outputs": [],
   "source": [
    "words=[]\n",
    "files = os.listdir('eg/en')\n",
    "#files = os.listdir('eg/en')[:10]\n",
    "\n",
    "for f in files:\n",
    "    if f.endswith('.json'):\n",
    "        #print(f.replace('.json',''))\n",
    "        words.append(f.replace('.json',''))"
   ]
  },
  {
   "cell_type": "markdown",
   "metadata": {},
   "source": [
    "##### **Create and delete `eg/es` folder**"
   ]
  },
  {
   "cell_type": "code",
   "execution_count": 4,
   "metadata": {},
   "outputs": [],
   "source": [
    "#!rm -rf eg/es\n",
    "#!mkdir eg/es"
   ]
  },
  {
   "cell_type": "markdown",
   "metadata": {},
   "source": [
    "### **Multiprocessing add english examples**"
   ]
  },
  {
   "cell_type": "code",
   "execution_count": 5,
   "metadata": {},
   "outputs": [
    {
     "name": "stdout",
     "output_type": "stream",
     "text": [
      "ok! in 2.4631268978118896 seconds\n"
     ]
    }
   ],
   "source": [
    "#worker\n",
    "def make_eg_es(word):\n",
    "    with open(f'eg/en/{word}.json') as json_file:\n",
    "        data = json.load(json_file)\n",
    "    \n",
    "    examples = data['examples']\n",
    "    examples = en_es_list(examples)\n",
    "    \n",
    "    data.update({'examples':examples})\n",
    "    \n",
    "    with open(f'eg/es/{word}.json', 'w') as outfile:\n",
    "        json.dump(data, outfile, indent=4)\n",
    "    \n",
    "    pbar.update(1)\n",
    "\n",
    "#multiprocessing\n",
    "pbar = tqdm(total=len(words))\n",
    "pool = ThreadPool(100)\n",
    "pool.starmap(make_eg_es, zip(words)) \n",
    "pool.close() \n",
    "pool.join()"
   ]
  }
 ],
 "metadata": {
  "kernelspec": {
   "display_name": "Python 3",
   "language": "python",
   "name": "python3"
  },
  "language_info": {
   "codemirror_mode": {
    "name": "ipython",
    "version": 3
   },
   "file_extension": ".py",
   "mimetype": "text/x-python",
   "name": "python",
   "nbconvert_exporter": "python",
   "pygments_lexer": "ipython3",
   "version": "3.7.8"
  }
 },
 "nbformat": 4,
 "nbformat_minor": 4
}
