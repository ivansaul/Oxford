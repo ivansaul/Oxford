{
 "cells": [
  {
   "cell_type": "markdown",
   "metadata": {},
   "source": [
    "# **Make english examples(json)**\n",
    "make `english` examples to `eg/en .json`"
   ]
  },
  {
   "cell_type": "markdown",
   "metadata": {},
   "source": [
    "### **Packages**"
   ]
  },
  {
   "cell_type": "code",
   "execution_count": 1,
   "metadata": {},
   "outputs": [],
   "source": [
    "import json\n",
    "import translatepy\n",
    "import pandas as pd\n",
    "import oxford_api\n",
    "from oxford_api import Word\n",
    "from multiprocessing.dummy import Pool as ThreadPool\n",
    "from tqdm import tqdm"
   ]
  },
  {
   "cell_type": "markdown",
   "metadata": {},
   "source": [
    "### **Functions**"
   ]
  },
  {
   "cell_type": "code",
   "execution_count": 2,
   "metadata": {},
   "outputs": [],
   "source": [
    "#translator.example\n",
    "'''\n",
    "1. return a list of objects <class 'translatepy.translators.bing.Example'>\n",
    "    - Note: it doent return list of strings. You need to convert to str() to use them.\n",
    "2. return empty list [] if it doesnt have examples, but sometimes return None\n",
    "'''\n",
    "def expl_transpy(word):\n",
    "    translator = translatepy.Translator()\n",
    "    ex=translator.example(word,'es','en')\n",
    "    if ex is None:\n",
    "        ex = []\n",
    "    ex = [str(x) for x in ex[:4]]\n",
    "    translator.clean_cache()\n",
    "    return ex\n",
    "\n",
    "def get_examples(word):\n",
    "    try:\n",
    "        Word.get(word)\n",
    "    except:\n",
    "        expl = expl_transpy(word)[:4]\n",
    "        if len(expl)==0:\n",
    "            expl = None\n",
    "        return expl\n",
    "    else:\n",
    "        expl=Word.examples()[:4]\n",
    "        if len(expl)<4:\n",
    "            expl = expl + expl_transpy(word)[:4]\n",
    "            expl = expl[:4]\n",
    "        if len(expl)==0:\n",
    "            expl = None\n",
    "        return expl"
   ]
  },
  {
   "cell_type": "markdown",
   "metadata": {},
   "source": [
    "### **Read file merge.json**"
   ]
  },
  {
   "cell_type": "code",
   "execution_count": 4,
   "metadata": {},
   "outputs": [],
   "source": [
    "df=pd.read_json('../merge.json')\n",
    "df=df.sample(n=10)"
   ]
  },
  {
   "cell_type": "markdown",
   "metadata": {},
   "source": [
    "##### **Create and delete `eg/en` folder**"
   ]
  },
  {
   "cell_type": "code",
   "execution_count": 1,
   "metadata": {},
   "outputs": [],
   "source": [
    "#!rm -rf eg/en2"
   ]
  },
  {
   "cell_type": "code",
   "execution_count": 4,
   "metadata": {},
   "outputs": [],
   "source": [
    "#!rm -rf eg/en\n",
    "#!mkdir eg/en"
   ]
  },
  {
   "cell_type": "markdown",
   "metadata": {},
   "source": [
    "### **Multiprocessing add english examples**"
   ]
  },
  {
   "cell_type": "code",
   "execution_count": 5,
   "metadata": {},
   "outputs": [
    {
     "data": {
      "text/plain": [
       "['position', 'ambitious', 'personal', 'only', 'tuesday']"
      ]
     },
     "execution_count": 5,
     "metadata": {},
     "output_type": "execute_result"
    }
   ],
   "source": [
    "words=df['word'].tolist()[:5] #['position', 'ambitious', 'personal', 'only', 'tuesday']\n",
    "words"
   ]
  },
  {
   "cell_type": "code",
   "execution_count": 8,
   "metadata": {},
   "outputs": [],
   "source": [
    "#words=['observer', 'balance', 'mate', 'conduct']\n",
    "'''\n",
    "i dont know what happen with this multiprocess, \n",
    "because return bad examples, correct implementacion is eg_en.ipynb\n",
    "''''\n",
    "#worker\n",
    "def make_eg(word):\n",
    "    data={}\n",
    "    data['word']=word\n",
    "    examples=get_examples(word)\n",
    "    data['examples']=examples\n",
    "    with open(f'eg/en2/{word}.json', 'w') as outfile:\n",
    "        json.dump(data, outfile, indent=4)\n",
    "    \n",
    "    #pbar.update(1)\n",
    "\n",
    "#multiprocessing\n",
    "#pbar = tqdm(total=len(words))\n",
    "pool = ThreadPool(100)\n",
    "pool.starmap(make_eg, zip(words)) \n",
    "pool.close() \n",
    "pool.join()"
   ]
  }
 ],
 "metadata": {
  "kernelspec": {
   "display_name": "Python 3",
   "language": "python",
   "name": "python3"
  },
  "language_info": {
   "codemirror_mode": {
    "name": "ipython",
    "version": 3
   },
   "file_extension": ".py",
   "mimetype": "text/x-python",
   "name": "python",
   "nbconvert_exporter": "python",
   "pygments_lexer": "ipython3",
   "version": "3.7.8"
  }
 },
 "nbformat": 4,
 "nbformat_minor": 4
}
